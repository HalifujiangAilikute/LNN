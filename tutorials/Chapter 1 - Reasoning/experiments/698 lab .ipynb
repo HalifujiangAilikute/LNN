{
 "cells": [
  {
   "cell_type": "code",
   "execution_count": 7,
   "id": "a0a382c4",
   "metadata": {},
   "outputs": [
    {
     "name": "stdout",
     "output_type": "stream",
     "text": [
      "Name: lnn\r\n",
      "Version: 1.0\r\n",
      "Summary: A `Neural = Symbolic` framework for weighted real-valued logic\r\n",
      "Home-page: https://github.com/IBM/LNN\r\n",
      "Author: IBM Research\r\n",
      "Author-email: \r\n",
      "License: \r\n",
      "Location: /Users/alkutgalip/anaconda3/lib/python3.11/site-packages\r\n",
      "Requires: jupyter, matplotlib, networkx, numpy, pandas, setuptools, tabulate, torch, tqdm\r\n",
      "Required-by: \r\n"
     ]
    }
   ],
   "source": [
    "!pip show lnn\n"
   ]
  },
  {
   "cell_type": "code",
   "execution_count": 3,
   "id": "de1fd331",
   "metadata": {
    "scrolled": true
   },
   "outputs": [
    {
     "name": "stdout",
     "output_type": "stream",
     "text": [
      "Collecting git+https://github.com/IBM/LNN\n",
      "  Cloning https://github.com/IBM/LNN to /private/var/folders/gj/wrpyklq54y97gzjz_l71lh700000gp/T/pip-req-build-4g1aid3e\n",
      "  Running command git clone --filter=blob:none --quiet https://github.com/IBM/LNN /private/var/folders/gj/wrpyklq54y97gzjz_l71lh700000gp/T/pip-req-build-4g1aid3e\n",
      "  Resolved https://github.com/IBM/LNN to commit 2382067d91b5cba67ce90817925e6e70bc84f25a\n",
      "  Preparing metadata (setup.py) ... \u001b[?25ldone\n",
      "\u001b[?25hRequirement already satisfied: jupyter in /Users/alkutgalip/anaconda3/lib/python3.11/site-packages (from lnn==1.0) (1.0.0)\n",
      "Requirement already satisfied: matplotlib>=3.3.3 in /Users/alkutgalip/anaconda3/lib/python3.11/site-packages (from lnn==1.0) (3.8.1)\n",
      "Requirement already satisfied: networkx>=2.5.1 in /Users/alkutgalip/anaconda3/lib/python3.11/site-packages (from lnn==1.0) (3.1)\n",
      "Requirement already satisfied: numpy>=1.23.4 in /Users/alkutgalip/anaconda3/lib/python3.11/site-packages (from lnn==1.0) (1.24.3)\n",
      "Requirement already satisfied: pandas>=1.3.4 in /Users/alkutgalip/anaconda3/lib/python3.11/site-packages (from lnn==1.0) (2.1.1)\n",
      "Requirement already satisfied: setuptools>=65.5.1 in /Users/alkutgalip/anaconda3/lib/python3.11/site-packages (from lnn==1.0) (68.0.0)\n",
      "Requirement already satisfied: tabulate in /Users/alkutgalip/anaconda3/lib/python3.11/site-packages (from lnn==1.0) (0.8.10)\n",
      "Collecting torch>=1.13.1 (from lnn==1.0)\n",
      "  Obtaining dependency information for torch>=1.13.1 from https://files.pythonhosted.org/packages/63/e4/efa1029677516b7d8231dca794ad445127263029b703f56d9986554a640c/torch-2.1.1-cp311-none-macosx_10_9_x86_64.whl.metadata\n",
      "  Downloading torch-2.1.1-cp311-none-macosx_10_9_x86_64.whl.metadata (25 kB)\n",
      "Requirement already satisfied: tqdm>=4.50.2 in /Users/alkutgalip/anaconda3/lib/python3.11/site-packages (from lnn==1.0) (4.65.0)\n",
      "Requirement already satisfied: contourpy>=1.0.1 in /Users/alkutgalip/anaconda3/lib/python3.11/site-packages (from matplotlib>=3.3.3->lnn==1.0) (1.0.5)\n",
      "Requirement already satisfied: cycler>=0.10 in /Users/alkutgalip/anaconda3/lib/python3.11/site-packages (from matplotlib>=3.3.3->lnn==1.0) (0.11.0)\n",
      "Requirement already satisfied: fonttools>=4.22.0 in /Users/alkutgalip/anaconda3/lib/python3.11/site-packages (from matplotlib>=3.3.3->lnn==1.0) (4.25.0)\n",
      "Requirement already satisfied: kiwisolver>=1.3.1 in /Users/alkutgalip/anaconda3/lib/python3.11/site-packages (from matplotlib>=3.3.3->lnn==1.0) (1.4.4)\n",
      "Requirement already satisfied: packaging>=20.0 in /Users/alkutgalip/anaconda3/lib/python3.11/site-packages (from matplotlib>=3.3.3->lnn==1.0) (23.1)\n",
      "Requirement already satisfied: pillow>=8 in /Users/alkutgalip/anaconda3/lib/python3.11/site-packages (from matplotlib>=3.3.3->lnn==1.0) (10.0.1)\n",
      "Requirement already satisfied: pyparsing>=2.3.1 in /Users/alkutgalip/anaconda3/lib/python3.11/site-packages (from matplotlib>=3.3.3->lnn==1.0) (3.0.9)\n",
      "Requirement already satisfied: python-dateutil>=2.7 in /Users/alkutgalip/anaconda3/lib/python3.11/site-packages (from matplotlib>=3.3.3->lnn==1.0) (2.8.2)\n",
      "Requirement already satisfied: pytz>=2020.1 in /Users/alkutgalip/anaconda3/lib/python3.11/site-packages (from pandas>=1.3.4->lnn==1.0) (2023.3.post1)\n",
      "Requirement already satisfied: tzdata>=2022.1 in /Users/alkutgalip/anaconda3/lib/python3.11/site-packages (from pandas>=1.3.4->lnn==1.0) (2023.3)\n",
      "Requirement already satisfied: filelock in /Users/alkutgalip/anaconda3/lib/python3.11/site-packages (from torch>=1.13.1->lnn==1.0) (3.9.0)\n",
      "Requirement already satisfied: typing-extensions in /Users/alkutgalip/anaconda3/lib/python3.11/site-packages (from torch>=1.13.1->lnn==1.0) (4.7.1)\n",
      "Requirement already satisfied: sympy in /Users/alkutgalip/anaconda3/lib/python3.11/site-packages (from torch>=1.13.1->lnn==1.0) (1.11.1)\n",
      "Requirement already satisfied: jinja2 in /Users/alkutgalip/anaconda3/lib/python3.11/site-packages (from torch>=1.13.1->lnn==1.0) (3.1.2)\n",
      "Requirement already satisfied: fsspec in /Users/alkutgalip/anaconda3/lib/python3.11/site-packages (from torch>=1.13.1->lnn==1.0) (2023.4.0)\n",
      "Requirement already satisfied: notebook in /Users/alkutgalip/anaconda3/lib/python3.11/site-packages (from jupyter->lnn==1.0) (6.5.4)\n",
      "Requirement already satisfied: qtconsole in /Users/alkutgalip/anaconda3/lib/python3.11/site-packages (from jupyter->lnn==1.0) (5.4.2)\n",
      "Requirement already satisfied: jupyter-console in /Users/alkutgalip/anaconda3/lib/python3.11/site-packages (from jupyter->lnn==1.0) (6.6.3)\n",
      "Requirement already satisfied: nbconvert in /Users/alkutgalip/anaconda3/lib/python3.11/site-packages (from jupyter->lnn==1.0) (6.5.4)\n",
      "Requirement already satisfied: ipykernel in /Users/alkutgalip/anaconda3/lib/python3.11/site-packages (from jupyter->lnn==1.0) (6.25.0)\n",
      "Requirement already satisfied: ipywidgets in /Users/alkutgalip/anaconda3/lib/python3.11/site-packages (from jupyter->lnn==1.0) (8.0.4)\n",
      "Requirement already satisfied: six>=1.5 in /Users/alkutgalip/anaconda3/lib/python3.11/site-packages (from python-dateutil>=2.7->matplotlib>=3.3.3->lnn==1.0) (1.16.0)\n",
      "Requirement already satisfied: appnope in /Users/alkutgalip/anaconda3/lib/python3.11/site-packages (from ipykernel->jupyter->lnn==1.0) (0.1.2)\n",
      "Requirement already satisfied: comm>=0.1.1 in /Users/alkutgalip/anaconda3/lib/python3.11/site-packages (from ipykernel->jupyter->lnn==1.0) (0.1.2)\n",
      "Requirement already satisfied: debugpy>=1.6.5 in /Users/alkutgalip/anaconda3/lib/python3.11/site-packages (from ipykernel->jupyter->lnn==1.0) (1.6.7)\n",
      "Requirement already satisfied: ipython>=7.23.1 in /Users/alkutgalip/anaconda3/lib/python3.11/site-packages (from ipykernel->jupyter->lnn==1.0) (8.15.0)\n",
      "Requirement already satisfied: jupyter-client>=6.1.12 in /Users/alkutgalip/anaconda3/lib/python3.11/site-packages (from ipykernel->jupyter->lnn==1.0) (7.4.9)\n",
      "Requirement already satisfied: jupyter-core!=5.0.*,>=4.12 in /Users/alkutgalip/anaconda3/lib/python3.11/site-packages (from ipykernel->jupyter->lnn==1.0) (5.3.0)\n",
      "Requirement already satisfied: matplotlib-inline>=0.1 in /Users/alkutgalip/anaconda3/lib/python3.11/site-packages (from ipykernel->jupyter->lnn==1.0) (0.1.6)\n",
      "Requirement already satisfied: nest-asyncio in /Users/alkutgalip/anaconda3/lib/python3.11/site-packages (from ipykernel->jupyter->lnn==1.0) (1.5.6)\n",
      "Requirement already satisfied: psutil in /Users/alkutgalip/anaconda3/lib/python3.11/site-packages (from ipykernel->jupyter->lnn==1.0) (5.9.0)\n",
      "Requirement already satisfied: pyzmq>=20 in /Users/alkutgalip/anaconda3/lib/python3.11/site-packages (from ipykernel->jupyter->lnn==1.0) (23.2.0)\n",
      "Requirement already satisfied: tornado>=6.1 in /Users/alkutgalip/anaconda3/lib/python3.11/site-packages (from ipykernel->jupyter->lnn==1.0) (6.3.3)\n",
      "Requirement already satisfied: traitlets>=5.4.0 in /Users/alkutgalip/anaconda3/lib/python3.11/site-packages (from ipykernel->jupyter->lnn==1.0) (5.7.1)\n",
      "Requirement already satisfied: widgetsnbextension~=4.0 in /Users/alkutgalip/anaconda3/lib/python3.11/site-packages (from ipywidgets->jupyter->lnn==1.0) (4.0.5)\n",
      "Requirement already satisfied: jupyterlab-widgets~=3.0 in /Users/alkutgalip/anaconda3/lib/python3.11/site-packages (from ipywidgets->jupyter->lnn==1.0) (3.0.5)\n",
      "Requirement already satisfied: MarkupSafe>=2.0 in /Users/alkutgalip/anaconda3/lib/python3.11/site-packages (from jinja2->torch>=1.13.1->lnn==1.0) (2.1.1)\n",
      "Requirement already satisfied: prompt-toolkit>=3.0.30 in /Users/alkutgalip/anaconda3/lib/python3.11/site-packages (from jupyter-console->jupyter->lnn==1.0) (3.0.36)\n",
      "Requirement already satisfied: pygments in /Users/alkutgalip/anaconda3/lib/python3.11/site-packages (from jupyter-console->jupyter->lnn==1.0) (2.15.1)\n",
      "Requirement already satisfied: lxml in /Users/alkutgalip/anaconda3/lib/python3.11/site-packages (from nbconvert->jupyter->lnn==1.0) (4.9.3)\n",
      "Requirement already satisfied: beautifulsoup4 in /Users/alkutgalip/anaconda3/lib/python3.11/site-packages (from nbconvert->jupyter->lnn==1.0) (4.12.2)\n",
      "Requirement already satisfied: bleach in /Users/alkutgalip/anaconda3/lib/python3.11/site-packages (from nbconvert->jupyter->lnn==1.0) (4.1.0)\n",
      "Requirement already satisfied: defusedxml in /Users/alkutgalip/anaconda3/lib/python3.11/site-packages (from nbconvert->jupyter->lnn==1.0) (0.7.1)\n",
      "Requirement already satisfied: entrypoints>=0.2.2 in /Users/alkutgalip/anaconda3/lib/python3.11/site-packages (from nbconvert->jupyter->lnn==1.0) (0.4)\n",
      "Requirement already satisfied: jupyterlab-pygments in /Users/alkutgalip/anaconda3/lib/python3.11/site-packages (from nbconvert->jupyter->lnn==1.0) (0.1.2)\n",
      "Requirement already satisfied: mistune<2,>=0.8.1 in /Users/alkutgalip/anaconda3/lib/python3.11/site-packages (from nbconvert->jupyter->lnn==1.0) (0.8.4)\n",
      "Requirement already satisfied: nbclient>=0.5.0 in /Users/alkutgalip/anaconda3/lib/python3.11/site-packages (from nbconvert->jupyter->lnn==1.0) (0.5.13)\n",
      "Requirement already satisfied: nbformat>=5.1 in /Users/alkutgalip/anaconda3/lib/python3.11/site-packages (from nbconvert->jupyter->lnn==1.0) (5.9.2)\n",
      "Requirement already satisfied: pandocfilters>=1.4.1 in /Users/alkutgalip/anaconda3/lib/python3.11/site-packages (from nbconvert->jupyter->lnn==1.0) (1.5.0)\n",
      "Requirement already satisfied: tinycss2 in /Users/alkutgalip/anaconda3/lib/python3.11/site-packages (from nbconvert->jupyter->lnn==1.0) (1.2.1)\n"
     ]
    },
    {
     "name": "stdout",
     "output_type": "stream",
     "text": [
      "Requirement already satisfied: argon2-cffi in /Users/alkutgalip/anaconda3/lib/python3.11/site-packages (from notebook->jupyter->lnn==1.0) (21.3.0)\n",
      "Requirement already satisfied: ipython-genutils in /Users/alkutgalip/anaconda3/lib/python3.11/site-packages (from notebook->jupyter->lnn==1.0) (0.2.0)\n",
      "Requirement already satisfied: Send2Trash>=1.8.0 in /Users/alkutgalip/anaconda3/lib/python3.11/site-packages (from notebook->jupyter->lnn==1.0) (1.8.0)\n",
      "Requirement already satisfied: terminado>=0.8.3 in /Users/alkutgalip/anaconda3/lib/python3.11/site-packages (from notebook->jupyter->lnn==1.0) (0.17.1)\n",
      "Requirement already satisfied: prometheus-client in /Users/alkutgalip/anaconda3/lib/python3.11/site-packages (from notebook->jupyter->lnn==1.0) (0.14.1)\n",
      "Requirement already satisfied: nbclassic>=0.4.7 in /Users/alkutgalip/anaconda3/lib/python3.11/site-packages (from notebook->jupyter->lnn==1.0) (0.5.5)\n",
      "Requirement already satisfied: qtpy>=2.0.1 in /Users/alkutgalip/anaconda3/lib/python3.11/site-packages (from qtconsole->jupyter->lnn==1.0) (2.2.0)\n",
      "Requirement already satisfied: mpmath>=0.19 in /Users/alkutgalip/anaconda3/lib/python3.11/site-packages (from sympy->torch>=1.13.1->lnn==1.0) (1.3.0)\n",
      "Requirement already satisfied: backcall in /Users/alkutgalip/anaconda3/lib/python3.11/site-packages (from ipython>=7.23.1->ipykernel->jupyter->lnn==1.0) (0.2.0)\n",
      "Requirement already satisfied: decorator in /Users/alkutgalip/anaconda3/lib/python3.11/site-packages (from ipython>=7.23.1->ipykernel->jupyter->lnn==1.0) (5.1.1)\n",
      "Requirement already satisfied: jedi>=0.16 in /Users/alkutgalip/anaconda3/lib/python3.11/site-packages (from ipython>=7.23.1->ipykernel->jupyter->lnn==1.0) (0.18.1)\n",
      "Requirement already satisfied: pickleshare in /Users/alkutgalip/anaconda3/lib/python3.11/site-packages (from ipython>=7.23.1->ipykernel->jupyter->lnn==1.0) (0.7.5)\n",
      "Requirement already satisfied: stack-data in /Users/alkutgalip/anaconda3/lib/python3.11/site-packages (from ipython>=7.23.1->ipykernel->jupyter->lnn==1.0) (0.2.0)\n",
      "Requirement already satisfied: pexpect>4.3 in /Users/alkutgalip/anaconda3/lib/python3.11/site-packages (from ipython>=7.23.1->ipykernel->jupyter->lnn==1.0) (4.8.0)\n",
      "Requirement already satisfied: platformdirs>=2.5 in /Users/alkutgalip/anaconda3/lib/python3.11/site-packages (from jupyter-core!=5.0.*,>=4.12->ipykernel->jupyter->lnn==1.0) (3.10.0)\n",
      "Requirement already satisfied: jupyter-server>=1.8 in /Users/alkutgalip/anaconda3/lib/python3.11/site-packages (from nbclassic>=0.4.7->notebook->jupyter->lnn==1.0) (1.23.4)\n",
      "Requirement already satisfied: notebook-shim>=0.1.0 in /Users/alkutgalip/anaconda3/lib/python3.11/site-packages (from nbclassic>=0.4.7->notebook->jupyter->lnn==1.0) (0.2.2)\n",
      "Requirement already satisfied: fastjsonschema in /Users/alkutgalip/anaconda3/lib/python3.11/site-packages (from nbformat>=5.1->nbconvert->jupyter->lnn==1.0) (2.16.2)\n",
      "Requirement already satisfied: jsonschema>=2.6 in /Users/alkutgalip/anaconda3/lib/python3.11/site-packages (from nbformat>=5.1->nbconvert->jupyter->lnn==1.0) (4.17.3)\n",
      "Requirement already satisfied: wcwidth in /Users/alkutgalip/anaconda3/lib/python3.11/site-packages (from prompt-toolkit>=3.0.30->jupyter-console->jupyter->lnn==1.0) (0.2.5)\n",
      "Requirement already satisfied: ptyprocess in /Users/alkutgalip/anaconda3/lib/python3.11/site-packages (from terminado>=0.8.3->notebook->jupyter->lnn==1.0) (0.7.0)\n",
      "Requirement already satisfied: argon2-cffi-bindings in /Users/alkutgalip/anaconda3/lib/python3.11/site-packages (from argon2-cffi->notebook->jupyter->lnn==1.0) (21.2.0)\n",
      "Requirement already satisfied: soupsieve>1.2 in /Users/alkutgalip/anaconda3/lib/python3.11/site-packages (from beautifulsoup4->nbconvert->jupyter->lnn==1.0) (2.5)\n",
      "Requirement already satisfied: webencodings in /Users/alkutgalip/anaconda3/lib/python3.11/site-packages (from bleach->nbconvert->jupyter->lnn==1.0) (0.5.1)\n",
      "Requirement already satisfied: parso<0.9.0,>=0.8.0 in /Users/alkutgalip/anaconda3/lib/python3.11/site-packages (from jedi>=0.16->ipython>=7.23.1->ipykernel->jupyter->lnn==1.0) (0.8.3)\n",
      "Requirement already satisfied: attrs>=17.4.0 in /Users/alkutgalip/anaconda3/lib/python3.11/site-packages (from jsonschema>=2.6->nbformat>=5.1->nbconvert->jupyter->lnn==1.0) (23.1.0)\n",
      "Requirement already satisfied: pyrsistent!=0.17.0,!=0.17.1,!=0.17.2,>=0.14.0 in /Users/alkutgalip/anaconda3/lib/python3.11/site-packages (from jsonschema>=2.6->nbformat>=5.1->nbconvert->jupyter->lnn==1.0) (0.18.0)\n",
      "Requirement already satisfied: anyio<4,>=3.1.0 in /Users/alkutgalip/anaconda3/lib/python3.11/site-packages (from jupyter-server>=1.8->nbclassic>=0.4.7->notebook->jupyter->lnn==1.0) (3.5.0)\n",
      "Requirement already satisfied: websocket-client in /Users/alkutgalip/anaconda3/lib/python3.11/site-packages (from jupyter-server>=1.8->nbclassic>=0.4.7->notebook->jupyter->lnn==1.0) (0.58.0)\n",
      "Requirement already satisfied: cffi>=1.0.1 in /Users/alkutgalip/anaconda3/lib/python3.11/site-packages (from argon2-cffi-bindings->argon2-cffi->notebook->jupyter->lnn==1.0) (1.15.1)\n",
      "Requirement already satisfied: executing in /Users/alkutgalip/anaconda3/lib/python3.11/site-packages (from stack-data->ipython>=7.23.1->ipykernel->jupyter->lnn==1.0) (0.8.3)\n",
      "Requirement already satisfied: asttokens in /Users/alkutgalip/anaconda3/lib/python3.11/site-packages (from stack-data->ipython>=7.23.1->ipykernel->jupyter->lnn==1.0) (2.0.5)\n",
      "Requirement already satisfied: pure-eval in /Users/alkutgalip/anaconda3/lib/python3.11/site-packages (from stack-data->ipython>=7.23.1->ipykernel->jupyter->lnn==1.0) (0.2.2)\n",
      "Requirement already satisfied: idna>=2.8 in /Users/alkutgalip/anaconda3/lib/python3.11/site-packages (from anyio<4,>=3.1.0->jupyter-server>=1.8->nbclassic>=0.4.7->notebook->jupyter->lnn==1.0) (3.4)\n",
      "Requirement already satisfied: sniffio>=1.1 in /Users/alkutgalip/anaconda3/lib/python3.11/site-packages (from anyio<4,>=3.1.0->jupyter-server>=1.8->nbclassic>=0.4.7->notebook->jupyter->lnn==1.0) (1.2.0)\n",
      "Requirement already satisfied: pycparser in /Users/alkutgalip/anaconda3/lib/python3.11/site-packages (from cffi>=1.0.1->argon2-cffi-bindings->argon2-cffi->notebook->jupyter->lnn==1.0) (2.21)\n",
      "Downloading torch-2.1.1-cp311-none-macosx_10_9_x86_64.whl (146.7 MB)\n",
      "\u001b[2K   \u001b[90m━━━━━━━━━━━━━━━━━━━━━━━━━━━━━━━━━━━━━━━━\u001b[0m \u001b[32m146.7/146.7 MB\u001b[0m \u001b[31m2.5 MB/s\u001b[0m eta \u001b[36m0:00:00\u001b[0m00:01\u001b[0m00:01\u001b[0m\n",
      "\u001b[?25hBuilding wheels for collected packages: lnn\n",
      "  Building wheel for lnn (setup.py) ... \u001b[?25ldone\n",
      "\u001b[?25h  Created wheel for lnn: filename=lnn-1.0-py3-none-any.whl size=80081 sha256=2647130b3c28cfd07c107d168dfca5cfdd09099c236e18db7b31995ca4f6eb61\n",
      "  Stored in directory: /private/var/folders/gj/wrpyklq54y97gzjz_l71lh700000gp/T/pip-ephem-wheel-cache-c6il1mcl/wheels/45/a4/c1/ed27677834d9fd0b740698e027829b34975fdb2d1ebdfa3e2c\n",
      "Successfully built lnn\n",
      "Installing collected packages: torch, lnn\n",
      "Successfully installed lnn-1.0 torch-2.1.1\n",
      "Note: you may need to restart the kernel to use updated packages.\n"
     ]
    }
   ],
   "source": [
    "pip install git+https://github.com/IBM/LNN\n"
   ]
  },
  {
   "cell_type": "code",
   "execution_count": 13,
   "id": "cfbc9848",
   "metadata": {},
   "outputs": [],
   "source": [
    "from lnn import Propositions\n",
    "# Print the attributes of the module to understand its structure\n",
    "#print(lnn_dict)\n"
   ]
  },
  {
   "cell_type": "code",
   "execution_count": 30,
   "id": "b6ce8f9c",
   "metadata": {},
   "outputs": [
    {
     "name": "stdout",
     "output_type": "stream",
     "text": [
      "OPEN And: ((A → B) ∧ ((C ∧ D) → E) ∧ (E → (C ∧ D))) TRUE tensor([1., 1.], grad_fn=<SubBackward0>)\n",
      "\n",
      "OPEN Proposition: APPROX_UNKNOWN APPROX_UNKNOWN tensor([0.2000, 1.0000])\n",
      "OPEN Proposition: APPROX_UNKNOWN APPROX_UNKNOWN tensor([0.3000, 0.7000])\n",
      "OPEN Proposition: APPROX_UNKNOWN APPROX_UNKNOWN tensor([0.3000, 0.7000])\n"
     ]
    }
   ],
   "source": [
    "from lnn import Propositions, Fact, Implies, Model\n",
    "\n",
    "# Rules\n",
    "A, B, C, D, E = Propositions(\"A\", \"B\", \"C\", \"D\", \"E\")\n",
    "IMPLIES_A_B = Implies(A, B)\n",
    "AND_C_D = And(C, D)\n",
    "IMPLIES_CD_E = Implies(AND_C_D, E)\n",
    "IMPLIES_E_CD = Implies(E, AND_C_D)\n",
    "ROOT = And(IMPLIES_A_B, IMPLIES_CD_E, IMPLIES_E_CD)\n",
    "\n",
    "# Knowledge\n",
    "model = Model()\n",
    "model.add_knowledge(ROOT)\n",
    "\n",
    "# Data\n",
    "A.add_data((0.2, 0.2))\n",
    "C.add_data(Fact.TRUE)\n",
    "E.add_data((0.3, 0.7))\n",
    "ROOT.add_data(Fact.TRUE)\n",
    "\n",
    "# Reasoning\n",
    "model.infer()\n",
    "\n",
    "# Print in the desired format\n",
    "print(f\"OPEN And: {ROOT} {'TRUE' if all(ROOT.get_data()) else 'FALSE'} {ROOT.get_data()}\\n\")\n",
    "\n",
    "for prop in [B, D, E]:\n",
    "    prop_data = prop.get_data()\n",
    "    print(f\"OPEN Proposition: {prop.state().name} {'APPROX_UNKNOWN' if any(prop_data) else 'APPROX_EXACT'} {prop_data}\")\n"
   ]
  },
  {
   "cell_type": "code",
   "execution_count": 31,
   "id": "e6808246",
   "metadata": {},
   "outputs": [
    {
     "data": {
      "text/plain": [
       "0.800000011920929"
      ]
     },
     "execution_count": 31,
     "metadata": {},
     "output_type": "execute_result"
    }
   ],
   "source": [
    "query = Or(B, D, E)\n",
    "query.upward()"
   ]
  },
  {
   "cell_type": "code",
   "execution_count": 32,
   "id": "a4ac8550",
   "metadata": {},
   "outputs": [
    {
     "name": "stdout",
     "output_type": "stream",
     "text": [
      "***** USING INFERENCE ON MODEL *****\n",
      "OPEN Or: (B ∨ D ∨ E)                                 APPROX_TRUE (0.8, 1.0)\n",
      "\n"
     ]
    }
   ],
   "source": [
    "# Knowledge\n",
    "model.add_knowledge(query)\n",
    "\n",
    "# Reasoning\n",
    "print('***** USING INFERENCE ON MODEL *****')\n",
    "model.infer()\n",
    "query.print()"
   ]
  },
  {
   "cell_type": "code",
   "execution_count": 33,
   "id": "f82046e5",
   "metadata": {},
   "outputs": [
    {
     "data": {
      "text/plain": [
       "'APPROX_TRUE: (0.8, 1.0)'"
      ]
     },
     "execution_count": 33,
     "metadata": {},
     "output_type": "execute_result"
    }
   ],
   "source": [
    "def query_state(node):\n",
    "    round_off = lambda my_list: [float(f\"{_:.1f}\") for _ in my_list]\n",
    "    return f\"{node.state().name}: {tuple(round_off(node.get_data().tolist()))}\"\n",
    "\n",
    "query_state(query)"
   ]
  },
  {
   "cell_type": "code",
   "execution_count": null,
   "id": "46dd1432",
   "metadata": {},
   "outputs": [],
   "source": []
  }
 ],
 "metadata": {
  "kernelspec": {
   "display_name": "Python 3 (ipykernel)",
   "language": "python",
   "name": "python3"
  },
  "language_info": {
   "codemirror_mode": {
    "name": "ipython",
    "version": 3
   },
   "file_extension": ".py",
   "mimetype": "text/x-python",
   "name": "python",
   "nbconvert_exporter": "python",
   "pygments_lexer": "ipython3",
   "version": "3.11.5"
  }
 },
 "nbformat": 4,
 "nbformat_minor": 5
}
